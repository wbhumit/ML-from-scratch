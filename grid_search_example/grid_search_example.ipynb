{
 "cells": [
  {
   "cell_type": "code",
   "execution_count": 1,
   "id": "9c17978a",
   "metadata": {},
   "outputs": [],
   "source": [
    "import numpy as np\n",
    "import pandas as pd\n",
    "from sklearn.ensemble import RandomForestClassifier\n",
    "from sklearn.model_selection import GridSearchCV, train_test_split"
   ]
  },
  {
   "cell_type": "code",
   "execution_count": 2,
   "id": "f129d0ac",
   "metadata": {},
   "outputs": [],
   "source": [
    "def f1_score(y_true, y_pred):\n",
    "    tp = np.sum((y_true == 1) & (y_pred == 1))\n",
    "    fn = np.sum((y_true == 1) & (y_pred == 0))\n",
    "    fp = np.sum((y_true == 0) & (y_pred == 1))\n",
    "    tn = np.sum((y_true == 0) & (y_pred == 0))\n",
    "    precision = tp / (tp + fp) if (tp + fp) > 0 else 0\n",
    "    recall = tp / (tp + fn) if (tp + fn) > 0 else 0\n",
    "    f1 = 2 * (precision * recall) / (precision + recall) if (precision + recall) > 0 else 0\n",
    "    \n",
    "    print('----------------------------------')\n",
    "    print('                 Actual Value')\n",
    "    print('----------------------------------')\n",
    "    print(f'            Positive    Negative')\n",
    "    print(f'Positive    {tp:^8}    {fp:^8}')\n",
    "    print(f'Negative    {fn:^8}    {tn:^8}')\n",
    "    print('----------------------------------')\n",
    "    \n",
    "    return f1"
   ]
  },
  {
   "cell_type": "code",
   "execution_count": 5,
   "id": "8a077560",
   "metadata": {},
   "outputs": [
    {
     "name": "stdout",
     "output_type": "stream",
     "text": [
      "----------------------------------\n",
      "                 Actual Value\n",
      "----------------------------------\n",
      "            Positive    Negative\n",
      "Positive      427         232   \n",
      "Negative      513         7066  \n",
      "----------------------------------\n",
      "Error Rate: 0.09043457149793639\n",
      "F1 Score: 0.5340838023764852\n"
     ]
    }
   ],
   "source": [
    "# Load data\n",
    "df = pd.read_csv('bank_shuffle.csv')\n",
    "df['y'] = df['y'].apply(lambda x: x == 'yes')\n",
    "df = pd.get_dummies(df, drop_first=True)\n",
    "\n",
    "# Split dataset\n",
    "df_train = df.iloc[:int(len(df) * 0.8), :]\n",
    "df_test = df.iloc[int(len(df) * 0.8):, :]\n",
    "\n",
    "X_train = df_train.drop('y', axis=1)\n",
    "y_train = df_train['y']\n",
    "X_test = df_test.drop('y', axis=1)\n",
    "y_test = df_test['y']\n",
    "\n",
    "# Parameter grid\n",
    "param_grid = {\n",
    "    'n_estimators': range(50, 501, 50),\n",
    "    'criterion': ['gini', 'entropy'],\n",
    "    'max_features': ['sqrt', 'log2']\n",
    "}\n",
    "\n",
    "# Grid search with 5-fold cross-validation\n",
    "clf = RandomForestClassifier()\n",
    "grid_search = GridSearchCV(clf, param_grid, scoring='f1', cv=5)\n",
    "grid_search.fit(X_train, y_train)\n",
    "\n",
    "# Best model\n",
    "best_clf = grid_search.best_estimator_\n",
    "\n",
    "# Predict on the test set\n",
    "y_pred = best_clf.predict(X_test)\n",
    "\n",
    "# Evaluate the model\n",
    "error_rate = sum(y_test != y_pred) / len(y_test)  # where `y` is the target variable of testset and `y_pred` is the prediction of testset\n",
    "f1 = f1_score(y_test, y_pred)\n",
    "\n",
    "print(f\"Error Rate: {error_rate}\")\n",
    "print(f\"F1 Score: {f1}\")\n"
   ]
  },
  {
   "cell_type": "code",
   "execution_count": null,
   "id": "3686d356",
   "metadata": {},
   "outputs": [],
   "source": []
  }
 ],
 "metadata": {
  "kernelspec": {
   "display_name": "Python 3 (ipykernel)",
   "language": "python",
   "name": "python3"
  },
  "language_info": {
   "codemirror_mode": {
    "name": "ipython",
    "version": 3
   },
   "file_extension": ".py",
   "mimetype": "text/x-python",
   "name": "python",
   "nbconvert_exporter": "python",
   "pygments_lexer": "ipython3",
   "version": "3.11.5"
  }
 },
 "nbformat": 4,
 "nbformat_minor": 5
}
