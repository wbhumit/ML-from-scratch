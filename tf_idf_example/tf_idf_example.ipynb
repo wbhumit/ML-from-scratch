{
 "cells": [
  {
   "cell_type": "code",
   "execution_count": 1,
   "id": "dd9362b5",
   "metadata": {},
   "outputs": [
    {
     "name": "stdout",
     "output_type": "stream",
     "text": [
      "0.195\n"
     ]
    }
   ],
   "source": [
    "from sklearn.feature_extraction.text import TfidfVectorizer\n",
    "from sklearn.linear_model import LogisticRegression\n",
    "\n",
    "def read_corpus_sentiment(filename):\n",
    "    with open(filename) as file:\n",
    "        corpus = []\n",
    "        y = []\n",
    "        for line in file:\n",
    "            sentence, sentiment = line.strip().rsplit('\\t', 1)\n",
    "            corpus.append(sentence)\n",
    "            y.append(int(sentiment))\n",
    "        return corpus, y\n",
    "\n",
    "corpus_train, y_train = read_corpus_sentiment('yelp_labelled_train.txt')\n",
    "corpus_test, y_test = read_corpus_sentiment('yelp_labelled_test.txt')\n",
    "\n",
    "vectorizer = TfidfVectorizer(lowercase=True, stop_words='english')\n",
    "\n",
    "X_train = vectorizer.fit_transform(corpus_train)\n",
    "X_test = vectorizer.transform(corpus_test)\n",
    "\n",
    "model = LogisticRegression()\n",
    "model.fit(X_train, y_train)\n",
    "\n",
    "y_pred = model.predict(X_test)\n",
    "\n",
    "error_rate = (y_test != y_pred).mean()\n",
    "\n",
    "print(error_rate)\n"
   ]
  },
  {
   "cell_type": "code",
   "execution_count": 2,
   "id": "726b52da",
   "metadata": {},
   "outputs": [
    {
     "name": "stdout",
     "output_type": "stream",
     "text": [
      "Feature names: ['00' '10' '100' ... 'yum' 'yummy' 'zero']\n",
      "(800, 1564)\n",
      "(200, 1564)\n",
      "Error rate: 0.195\n"
     ]
    }
   ],
   "source": [
    "from sklearn.feature_extraction.text import TfidfVectorizer\n",
    "from sklearn.linear_model import LogisticRegression\n",
    "\n",
    "def read_corpus_sentiment(filename):\n",
    "    with open(filename) as file:\n",
    "        corpus = []\n",
    "        y = []\n",
    "        for line in file:\n",
    "            sentence, sentiment = line.strip().rsplit('\\t',1)\n",
    "            corpus.append(sentence)\n",
    "            y.append(int(sentiment))\n",
    "        return corpus, y\n",
    "\n",
    "corpus_train, y_train = read_corpus_sentiment('yelp_labelled_train.txt')\n",
    "corpus_test, y_test = read_corpus_sentiment('yelp_labelled_test.txt')\n",
    "\n",
    "vect = TfidfVectorizer(stop_words='english', lowercase=True)\n",
    "X_train = vect.fit_transform(corpus_train)\n",
    "X_test = vect.transform(corpus_test)\n",
    "print(\"Feature names:\", vect.get_feature_names_out())\n",
    "print(X_train.shape)\n",
    "print(X_test.shape)\n",
    "clf = LogisticRegression()\n",
    "clf.fit(X_train, y_train)\n",
    "y_pred = clf.predict(X_test)\n",
    "# Error rate\n",
    "print(\"Error rate:\", (sum(y_pred != y_test) / len(y_test)))"
   ]
  },
  {
   "cell_type": "code",
   "execution_count": null,
   "id": "032c39f2",
   "metadata": {},
   "outputs": [],
   "source": []
  }
 ],
 "metadata": {
  "kernelspec": {
   "display_name": "Python 3 (ipykernel)",
   "language": "python",
   "name": "python3"
  },
  "language_info": {
   "codemirror_mode": {
    "name": "ipython",
    "version": 3
   },
   "file_extension": ".py",
   "mimetype": "text/x-python",
   "name": "python",
   "nbconvert_exporter": "python",
   "pygments_lexer": "ipython3",
   "version": "3.11.5"
  }
 },
 "nbformat": 4,
 "nbformat_minor": 5
}
